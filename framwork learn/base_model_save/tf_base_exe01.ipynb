{
 "cells": [
  {
   "cell_type": "code",
   "execution_count": 59,
   "metadata": {},
   "outputs": [
    {
     "name": "stdout",
     "output_type": "stream",
     "text": [
      "Tensor(\"Const_20:0\", shape=(), dtype=float32)\n",
      "Tensor(\"Const_21:0\", shape=(), dtype=float32)\n",
      "Tensor(\"add_19:0\", shape=(), dtype=float32)\n"
     ]
    }
   ],
   "source": [
    "\n",
    "import tensorflow as tf\n",
    "\n",
    "a=tf.constant(3.0,dtype=tf.float32)\n",
    "b=tf.constant(4.0)\n",
    "\n",
    "total=a+b\n",
    "print(a)\n",
    "print(b)\n",
    "print(total)\n",
    "\n",
    "write=tf.summary.FileWriter('base')\n",
    "write.add_graph(tf.get_default_graph())\n",
    "\n",
    "#writer=tf.summary.FileWriter('./logs',sess.graph)  \n",
    "\n"
   ]
  },
  {
   "cell_type": "code",
   "execution_count": 3,
   "metadata": {},
   "outputs": [
    {
     "name": "stdout",
     "output_type": "stream",
     "text": [
      "7.0\n"
     ]
    }
   ],
   "source": [
    "sess=tf.Session()\n",
    "print(sess.run(total))"
   ]
  },
  {
   "cell_type": "code",
   "execution_count": 4,
   "metadata": {},
   "outputs": [
    {
     "name": "stdout",
     "output_type": "stream",
     "text": [
      "{'total': 7.0, 'ab': (3.0, 4.0)}\n"
     ]
    }
   ],
   "source": [
    "print(sess.run({'ab':(a,b),'total':total}))"
   ]
  },
  {
   "cell_type": "code",
   "execution_count": 5,
   "metadata": {},
   "outputs": [],
   "source": [
    "x=tf.placeholder(tf.float32)\n",
    "y=tf.placeholder(tf.float32)\n",
    "z=x+y"
   ]
  },
  {
   "cell_type": "code",
   "execution_count": 7,
   "metadata": {},
   "outputs": [
    {
     "name": "stdout",
     "output_type": "stream",
     "text": [
      "7.5\n"
     ]
    }
   ],
   "source": [
    "print(sess.run(z,feed_dict={x:3,y:4.5}))"
   ]
  },
  {
   "cell_type": "code",
   "execution_count": 8,
   "metadata": {},
   "outputs": [
    {
     "name": "stdout",
     "output_type": "stream",
     "text": [
      "[3. 6.]\n"
     ]
    }
   ],
   "source": [
    "print(sess.run(z,feed_dict={x:[1,2],y:[2,4]}))"
   ]
  },
  {
   "cell_type": "code",
   "execution_count": 9,
   "metadata": {},
   "outputs": [],
   "source": [
    "my_data=[[0,1,],[2,3,],[4,5,],[6,7,],]\n",
    "\n",
    "slices=tf.data.Dataset.from_tensor_slices(my_data)\n",
    "\n",
    "next_item=slices.make_one_shot_iterator().get_next()"
   ]
  },
  {
   "cell_type": "code",
   "execution_count": 10,
   "metadata": {},
   "outputs": [
    {
     "name": "stdout",
     "output_type": "stream",
     "text": [
      "[0 1]\n",
      "[2 3]\n",
      "[4 5]\n",
      "[6 7]\n"
     ]
    }
   ],
   "source": [
    "while True:\n",
    "    try:\n",
    "        print(sess.run(next_item))\n",
    "    except tf.errors.OutOfRangeError:\n",
    "        break"
   ]
  },
  {
   "cell_type": "code",
   "execution_count": 11,
   "metadata": {},
   "outputs": [],
   "source": [
    "# 创建层\n",
    "\n",
    "x=tf.placeholder(tf.float32,shape=[None,3])\n",
    "linear_model=tf.layers.Dense(units=1)\n",
    "y=linear_model(x)"
   ]
  },
  {
   "cell_type": "code",
   "execution_count": 12,
   "metadata": {},
   "outputs": [],
   "source": [
    "init = tf.global_variables_initializer()\n",
    "sess.run(init)"
   ]
  },
  {
   "cell_type": "code",
   "execution_count": 13,
   "metadata": {},
   "outputs": [
    {
     "name": "stdout",
     "output_type": "stream",
     "text": [
      "[[-0.2408166]\n",
      " [ 0.5614872]]\n"
     ]
    }
   ],
   "source": [
    "print(sess.run(y,{x:[[1,2,3],[4,5,6]]}))"
   ]
  },
  {
   "cell_type": "code",
   "execution_count": 14,
   "metadata": {},
   "outputs": [
    {
     "data": {
      "text/plain": [
       "(None, None)"
      ]
     },
     "execution_count": 14,
     "metadata": {},
     "output_type": "execute_result"
    }
   ],
   "source": [
    "features = {\n",
    "    'sales' : [[5], [10], [8], [9]],\n",
    "    'department': ['sports', 'sports', 'gardening', 'gardening']}\n",
    "\n",
    "department_column = tf.feature_column.categorical_column_with_vocabulary_list(\n",
    "        'department', ['sports', 'gardening'])\n",
    "department_column = tf.feature_column.indicator_column(department_column)\n",
    "\n",
    "columns = [\n",
    "    tf.feature_column.numeric_column('sales'),\n",
    "    department_column\n",
    "]\n",
    "\n",
    "inputs = tf.feature_column.input_layer(features, columns)\n",
    "\n",
    "var_init = tf.global_variables_initializer()\n",
    "table_init = tf.tables_initializer()\n",
    "sess = tf.Session()\n",
    "sess.run((var_init, table_init))\n"
   ]
  },
  {
   "cell_type": "code",
   "execution_count": 15,
   "metadata": {},
   "outputs": [
    {
     "name": "stdout",
     "output_type": "stream",
     "text": [
      "[[ 1.  0.  5.]\n",
      " [ 1.  0. 10.]\n",
      " [ 0.  1.  8.]\n",
      " [ 0.  1.  9.]]\n"
     ]
    }
   ],
   "source": [
    "print(sess.run(inputs))"
   ]
  },
  {
   "cell_type": "code",
   "execution_count": 24,
   "metadata": {},
   "outputs": [],
   "source": [
    "x = tf.constant([[1], [2], [3], [4]], dtype=tf.float32)\n",
    "y_true = tf.constant([[0], [-1], [-2], [-3]], dtype=tf.float32)\n",
    "\n",
    "linear_model=tf.layers.Dense(units=1)\n",
    "y_pred=linear_model(x)"
   ]
  },
  {
   "cell_type": "code",
   "execution_count": 25,
   "metadata": {},
   "outputs": [
    {
     "name": "stdout",
     "output_type": "stream",
     "text": [
      "[[1.2429265]\n",
      " [2.485853 ]\n",
      " [3.7287793]\n",
      " [4.971706 ]]\n"
     ]
    }
   ],
   "source": [
    "sess=tf.Session()\n",
    "init=tf.global_variables_initializer()\n",
    "sess.run(init)\n",
    "print(sess.run(y_pred))"
   ]
  },
  {
   "cell_type": "code",
   "execution_count": 26,
   "metadata": {},
   "outputs": [
    {
     "name": "stdout",
     "output_type": "stream",
     "text": [
      "27.51576\n"
     ]
    }
   ],
   "source": [
    "loss=tf.losses.mean_squared_error(labels=y_true,predictions=y_pred)\n",
    "\n",
    "print(sess.run(loss))"
   ]
  },
  {
   "cell_type": "code",
   "execution_count": 27,
   "metadata": {},
   "outputs": [],
   "source": [
    "optimizer=tf.train.GradientDescentOptimizer(0.01)\n",
    "train=optimizer.minimize(loss)"
   ]
  },
  {
   "cell_type": "code",
   "execution_count": 29,
   "metadata": {},
   "outputs": [
    {
     "name": "stdout",
     "output_type": "stream",
     "text": [
      "19.217756\n",
      "13.459196\n",
      "9.46271\n",
      "6.6888943\n",
      "4.763467\n",
      "3.4267228\n",
      "2.4984584\n",
      "1.8536333\n",
      "1.4054857\n",
      "1.0938122\n",
      "0.87683964\n",
      "0.72558224\n",
      "0.6199274\n",
      "0.54591954\n",
      "0.4938748\n",
      "0.4570741\n",
      "0.43085492\n",
      "0.4119823\n",
      "0.39821118\n",
      "0.3879841\n",
      "0.38021994\n",
      "0.37416887\n",
      "0.36931053\n",
      "0.3652836\n",
      "0.36183748\n",
      "0.35879844\n",
      "0.35604554\n",
      "0.3534952\n",
      "0.35108918\n",
      "0.348787\n",
      "0.34656084\n",
      "0.34439105\n",
      "0.3422642\n",
      "0.34017083\n",
      "0.3381043\n",
      "0.33606017\n",
      "0.33403522\n",
      "0.33202717\n",
      "0.33003443\n",
      "0.32805595\n",
      "0.326091\n",
      "0.3241387\n",
      "0.322199\n",
      "0.32027143\n",
      "0.31835574\n",
      "0.31645176\n",
      "0.31455928\n",
      "0.3126783\n",
      "0.3108087\n",
      "0.30895028\n",
      "0.307103\n",
      "0.30526683\n",
      "0.3034416\n",
      "0.3016274\n",
      "0.299824\n",
      "0.29803136\n",
      "0.29624945\n",
      "0.2944782\n",
      "0.2927176\n",
      "0.29096746\n",
      "0.28922778\n",
      "0.28749856\n",
      "0.28577965\n",
      "0.28407103\n",
      "0.28237253\n",
      "0.28068435\n",
      "0.27900618\n",
      "0.27733803\n",
      "0.27567986\n",
      "0.2740316\n",
      "0.27239323\n",
      "0.27076462\n",
      "0.26914576\n",
      "0.2675366\n",
      "0.26593703\n",
      "0.26434708\n",
      "0.26276663\n",
      "0.2611955\n",
      "0.2596339\n",
      "0.25808156\n",
      "0.25653854\n",
      "0.25500473\n",
      "0.25348014\n",
      "0.2519646\n",
      "0.25045818\n",
      "0.24896067\n",
      "0.24747221\n",
      "0.24599257\n",
      "0.24452183\n",
      "0.24305992\n",
      "0.24160671\n",
      "0.24016215\n",
      "0.23872623\n",
      "0.23729894\n",
      "0.23588021\n",
      "0.23446986\n",
      "0.23306802\n",
      "0.23167457\n",
      "0.23028943\n",
      "0.22891253\n"
     ]
    }
   ],
   "source": [
    "for i in range(100):\n",
    "    _,loss_val=sess.run((train,loss))\n",
    "   \n",
    "    print(loss_val)"
   ]
  },
  {
   "cell_type": "code",
   "execution_count": 30,
   "metadata": {},
   "outputs": [],
   "source": [
    "mammal=tf.Variable(\"Elephant\",tf.string)\n",
    "ignition=tf.Variable(451,tf.int16)\n",
    "floating=tf.Variable(3.1415926,tf.float64)\n",
    "its_complicated=tf.Variable(12.3-4.85j,tf.complex64)"
   ]
  },
  {
   "cell_type": "code",
   "execution_count": 31,
   "metadata": {},
   "outputs": [],
   "source": [
    "my_image=tf.zeros([10,299,299,3])"
   ]
  },
  {
   "cell_type": "code",
   "execution_count": 34,
   "metadata": {},
   "outputs": [
    {
     "name": "stdout",
     "output_type": "stream",
     "text": [
      "Tensor(\"Rank_2:0\", shape=(), dtype=int32)\n"
     ]
    },
    {
     "data": {
      "text/plain": [
       "4"
      ]
     },
     "execution_count": 34,
     "metadata": {},
     "output_type": "execute_result"
    }
   ],
   "source": [
    "r=tf.rank(my_image)\n",
    "print(r)\n",
    "\n",
    "sess.run(r)"
   ]
  },
  {
   "cell_type": "code",
   "execution_count": 35,
   "metadata": {},
   "outputs": [],
   "source": [
    "float_tensor=tf.cast(tf.constant([1,2,3]),dtype=tf.float32)"
   ]
  },
  {
   "cell_type": "code",
   "execution_count": 53,
   "metadata": {},
   "outputs": [],
   "source": [
    "#sess=tf.Session()\n",
    "with tf.Graph().as_default():\n",
    "    pass"
   ]
  },
  {
   "cell_type": "code",
   "execution_count": null,
   "metadata": {},
   "outputs": [],
   "source": [
    "\n",
    "with sess.as_default():\n",
    "    constant = tf.constant([1, 2, 3])\n",
    "    #tensor1 = constant * constant\n",
    "    #print tensor1.eval()\n",
    "    \n",
    "    p = tf.placeholder(tf.float32)\n",
    "    t = p + 1.0\n",
    "    t=tf.Print(t,[t])\n",
    "    # t.eval()  # This will fail, since the placeholder did not get a value.\n",
    "    t.eval(feed_dict={p:2.0})  # This will succeed because we're feeding a value\n",
    "                           # to the placeholder.\n",
    "    print(t)\n",
    "    #sess.run(tf.Print(t,[t]))\n",
    "    t=tf.Print(t,[t])\n",
    "    result=t+1\n",
    "    \n",
    "    sess.run(t)\n",
    "    sess.run(result)"
   ]
  },
  {
   "cell_type": "code",
   "execution_count": 58,
   "metadata": {},
   "outputs": [
    {
     "name": "stdout",
     "output_type": "stream",
     "text": [
      "Loss(x,y)= 1.000\n"
     ]
    }
   ],
   "source": [
    "g1=tf.Graph()\n",
    "with g1.as_default():\n",
    "    x=tf.placeholder(tf.float32)\n",
    "    y=tf.placeholder(tf.float32)\n",
    "    bias=tf.Variable(1.0)\n",
    "    y_pre=x**2+bias\n",
    "    loss=(y-y_pre)**2\n",
    "    \n",
    "    sess=tf.Session()\n",
    "    sess.run(tf.global_variables_initializer())\n",
    "    print('Loss(x,y)= %.3f' % sess.run(loss,{x:3.0,y:9.0}))"
   ]
  },
  {
   "cell_type": "code",
   "execution_count": 1,
   "metadata": {},
   "outputs": [
    {
     "name": "stderr",
     "output_type": "stream",
     "text": [
      "/home/dsp2/anaconda2/envs/tf1.4_py35/lib/python3.5/site-packages/h5py/__init__.py:36: FutureWarning: Conversion of the second argument of issubdtype from `float` to `np.floating` is deprecated. In future, it will be treated as `np.float64 == np.dtype(float).type`.\n",
      "  from ._conv import register_converters as _register_converters\n"
     ]
    },
    {
     "name": "stdout",
     "output_type": "stream",
     "text": [
      "()\n",
      "()\n"
     ]
    }
   ],
   "source": [
    "import tensorflow as tf\n",
    "\n",
    "a=tf.constant(1.0,name=\"a\")\n",
    "b=tf.truncated_normal(shape=[],stddev=1,name=\"b\")\n",
    "\n",
    "print(a.get_shape())\n",
    "print(b.get_shape())"
   ]
  },
  {
   "cell_type": "code",
   "execution_count": 3,
   "metadata": {},
   "outputs": [],
   "source": [
    "x=tf.add(a,b)\n",
    "tf.summary.scalar('x',x)\n",
    "tf.summary.histogram('x_h',x)\n",
    "\n",
    "merged=tf.summary.merge_all()\n",
    "sess=tf.Session()\n",
    "write=tf.summary.FileWriter('log',sess.graph)\n",
    "\n",
    "sess.run(tf.global_variables_initializer())\n",
    "step=0\n",
    "while True:\n",
    "    mysum=sess.run(merged)\n",
    "    write.add_summary(mysum,step)\n",
    "    step+=1\n",
    "    if step==100:\n",
    "        break\n",
    "\n",
    "write.close()\n",
    "sess.close()"
   ]
  },
  {
   "cell_type": "code",
   "execution_count": null,
   "metadata": {},
   "outputs": [],
   "source": [
    "import tensorflow as tf"
   ]
  },
  {
   "cell_type": "code",
   "execution_count": 8,
   "metadata": {},
   "outputs": [
    {
     "name": "stdout",
     "output_type": "stream",
     "text": [
      "Tensor(\"Print_7:0\", dtype=float32)\n"
     ]
    }
   ],
   "source": [
    "sess=tf.Session()\n",
    "with sess.as_default():\n",
    "    constant = tf.constant([1, 2, 3])\n",
    "    #tensor1 = constant * constant\n",
    "    #print tensor1.eval()\n",
    "    \n",
    "    p = tf.placeholder(tf.float32)\n",
    "    t = p + 1.0\n",
    "    t=tf.Print(t,[t],\" tf.print(t) :\")\n",
    "    # t.eval()  # This will fail, since the placeholder did not get a value.\n",
    "    t.eval(feed_dict={p:2.0})  # This will succeed because we're feeding a value\n",
    "                           # to the placeholder.\n",
    "    print(t)\n",
    "    #sess.run(tf.Print(t,[t]))\n",
    "    #t=tf.Print(t,[t])\n",
    "    result=t+1\n",
    "    \n",
    "    sess.run(t,{p:2.0})\n",
    "    sess.run(result,{p:2.0})"
   ]
  },
  {
   "cell_type": "code",
   "execution_count": 10,
   "metadata": {},
   "outputs": [],
   "source": [
    "import numpy as np\n",
    "def my_fun(x):\n",
    "    return np.sinh(x)\n",
    "\n",
    "inp=tf.placeholder(tf.float32)\n",
    "\n",
    "y=tf.py_func(my_fun,[inp],[tf.float32])"
   ]
  },
  {
   "cell_type": "code",
   "execution_count": null,
   "metadata": {},
   "outputs": [],
   "source": []
  }
 ],
 "metadata": {
  "kernelspec": {
   "display_name": "Python 3",
   "language": "python",
   "name": "python3"
  },
  "language_info": {
   "codemirror_mode": {
    "name": "ipython",
    "version": 3
   },
   "file_extension": ".py",
   "mimetype": "text/x-python",
   "name": "python",
   "nbconvert_exporter": "python",
   "pygments_lexer": "ipython3",
   "version": "3.5.5"
  }
 },
 "nbformat": 4,
 "nbformat_minor": 2
}
